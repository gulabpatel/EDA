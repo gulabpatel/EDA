{
  "nbformat": 4,
  "nbformat_minor": 0,
  "metadata": {
    "colab": {
      "name": "1.Vaex_library.ipynb",
      "provenance": []
    },
    "kernelspec": {
      "display_name": "Python 3",
      "language": "python",
      "name": "python3"
    },
    "language_info": {
      "codemirror_mode": {
        "name": "ipython",
        "version": 3
      },
      "file_extension": ".py",
      "mimetype": "text/x-python",
      "name": "python",
      "nbconvert_exporter": "python",
      "pygments_lexer": "ipython3",
      "version": "3.6.9"
    }
  },
  "cells": [
    {
      "cell_type": "markdown",
      "metadata": {
        "id": "sfVFp_Uxg5Zg"
      },
      "source": [
        "### Vaex- Reading And Processing Huge Datasets in seconds"
      ]
    },
    {
      "cell_type": "markdown",
      "metadata": {
        "id": "TqDVME5qg5ak"
      },
      "source": [
        "### What is Vaex?\n",
        "Vaex is a high performance Python library for lazy Out-of-Core DataFrames (similar to Pandas), to visualize and explore big tabular datasets. It calculates statistics such as mean, sum, count, standard deviation etc, on an N-dimensional grid for more than a billion (10^9) samples/rows per second. Visualization is done using histograms, density plots and 3d volume rendering, allowing interactive exploration of big data. Vaex uses memory mapping, zero memory copy policy and lazy computations for best performance (no memory wasted)."
      ]
    },
    {
      "cell_type": "code",
      "metadata": {
        "id": "hRNEBSJahqbF"
      },
      "source": [
        "pip install vaex"
      ],
      "execution_count": null,
      "outputs": []
    },
    {
      "cell_type": "code",
      "metadata": {
        "id": "eQab8X9Rg5am"
      },
      "source": [
        "import vaex\n",
        "import pandas as pd\n",
        "import numpy as np\n",
        "n_rows = 1000000\n",
        "n_cols = 500\n",
        "df = pd.DataFrame(np.random.randint(0, 100, size=(n_rows, n_cols)), columns=['col%d' % i for i in range(n_cols)])\n",
        "df.head()"
      ],
      "execution_count": null,
      "outputs": []
    },
    {
      "cell_type": "code",
      "metadata": {
        "id": "t2ZdN24pg5ar"
      },
      "source": [
        "df.info(memory_usage='deep')"
      ],
      "execution_count": null,
      "outputs": []
    },
    {
      "cell_type": "markdown",
      "metadata": {
        "id": "gpCmUHEOg5at"
      },
      "source": [
        "### Creating .csv files"
      ]
    },
    {
      "cell_type": "code",
      "metadata": {
        "id": "fup9-6YKg5au"
      },
      "source": [
        "file_path = 'final_data.csv'\n",
        "df.to_csv(file_path, index=False) "
      ],
      "execution_count": null,
      "outputs": []
    },
    {
      "cell_type": "markdown",
      "metadata": {
        "id": "PGe4tIKhg5ax"
      },
      "source": [
        "### Create Hdf5 files"
      ]
    },
    {
      "cell_type": "code",
      "metadata": {
        "id": "lOYG4Mtdg5ay"
      },
      "source": [
        "vaex_df = vaex.from_csv(file_path, convert=True, chunk_size=5_000_000) #convrting into hdf5 file format"
      ],
      "execution_count": null,
      "outputs": []
    },
    {
      "cell_type": "code",
      "metadata": {
        "colab": {
          "background_save": true
        },
        "id": "zeXcnEibg5az",
        "scrolled": true
      },
      "source": [
        "type(vaex_df)"
      ],
      "execution_count": null,
      "outputs": []
    },
    {
      "cell_type": "markdown",
      "metadata": {
        "id": "j-lGkSiAg5a0"
      },
      "source": [
        "### Read Hdf5 files using Vaex library"
      ]
    },
    {
      "cell_type": "code",
      "metadata": {
        "colab": {
          "background_save": true
        },
        "id": "dqI0Wx8Zg5bc"
      },
      "source": [
        "vaex_df = vaex.open('final_data.csv.hdf5')"
      ],
      "execution_count": null,
      "outputs": []
    },
    {
      "cell_type": "code",
      "metadata": {
        "id": "u1Hj6ik3g5bd"
      },
      "source": [
        "type(vaex_df)"
      ],
      "execution_count": null,
      "outputs": []
    },
    {
      "cell_type": "code",
      "metadata": {
        "id": "J76XAyjug5be"
      },
      "source": [
        "vaex_df.head()"
      ],
      "execution_count": null,
      "outputs": []
    },
    {
      "cell_type": "markdown",
      "metadata": {
        "id": "OzC9TuQcg5bf"
      },
      "source": [
        "### Expression system\n",
        "Don't waste memory or time with feature engineering, we (lazily) transform your data when needed."
      ]
    },
    {
      "cell_type": "code",
      "metadata": {
        "id": "HxTdkxYSg5bg"
      },
      "source": [
        "%%time\n",
        "vaex_df['multiplication_col13']=vaex_df.col1*vaex_df.col3"
      ],
      "execution_count": null,
      "outputs": []
    },
    {
      "cell_type": "code",
      "metadata": {
        "id": "hzm6rkS2g5bh"
      },
      "source": [
        "vaex_df['multiplication_col13']"
      ],
      "execution_count": null,
      "outputs": []
    },
    {
      "cell_type": "markdown",
      "metadata": {
        "id": "yccMp0-5g5bi"
      },
      "source": [
        "### Out-of-core DataFrame\n",
        "Filtering and evaluating expressions will not waste memory by making copies; the data is kept untouched on disk, and will be streamed only when needed. Delay the time before you need a cluster."
      ]
    },
    {
      "cell_type": "code",
      "metadata": {
        "id": "_Gy7fjf6g5bj"
      },
      "source": [
        "vaex_df[vaex_df.col2>70]"
      ],
      "execution_count": null,
      "outputs": []
    },
    {
      "cell_type": "code",
      "metadata": {
        "id": "ad35QXmwg5bk"
      },
      "source": [
        "dff=vaex_df[vaex_df.col2>70]  ##Here Filtering will not make a memory copy"
      ],
      "execution_count": null,
      "outputs": []
    },
    {
      "cell_type": "code",
      "metadata": {
        "id": "LZoe9i1Qg5bl"
      },
      "source": [
        "### All the agorithms work out of core, the limit is the size of your harddriver\n",
        "dff.col2.minmax(progress='widget')"
      ],
      "execution_count": null,
      "outputs": []
    },
    {
      "cell_type": "markdown",
      "metadata": {
        "id": "IzjDEtWsg5bm"
      },
      "source": [
        "### Fast groupby / aggregations\n",
        "Vaex implements parallelized, highly performant groupby operations, especially when using categories (>1 billion/second)."
      ]
    },
    {
      "cell_type": "code",
      "metadata": {
        "id": "xs7GOF3sg5bn"
      },
      "source": [
        "%%time\n",
        "vaex_df_group=vaex_df.groupby(vaex_df.col1,agg=vaex.agg.mean(vaex_df.col4))\n",
        "vaex_df_group"
      ],
      "execution_count": null,
      "outputs": []
    },
    {
      "cell_type": "code",
      "metadata": {
        "id": "ZlzjrnQFg5bp"
      },
      "source": [
        "%%time\n",
        "vaex_df.groupby(vaex_df.col1,agg='count')"
      ],
      "execution_count": null,
      "outputs": []
    },
    {
      "cell_type": "markdown",
      "metadata": {
        "id": "IsFHgS9plsKM"
      },
      "source": [
        "-------------------------"
      ]
    }
  ]
}